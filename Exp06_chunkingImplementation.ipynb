{
  "cells": [
    {
      "cell_type": "markdown",
      "metadata": {
        "id": "view-in-github",
        "colab_type": "text"
      },
      "source": [
        "<a href=\"https://colab.research.google.com/github/tanp2612/NLP/blob/master/Exp06_chunkingImplementation.ipynb\" target=\"_parent\"><img src=\"https://colab.research.google.com/assets/colab-badge.svg\" alt=\"Open In Colab\"/></a>"
      ]
    },
    {
      "cell_type": "code",
      "execution_count": null,
      "id": "exciting-identity",
      "metadata": {
        "id": "exciting-identity",
        "outputId": "0201f464-37ee-49ee-9f01-078b49915ad3"
      },
      "outputs": [
        {
          "name": "stderr",
          "output_type": "stream",
          "text": [
            "[nltk_data] Downloading package punkt to\n",
            "[nltk_data]     C:\\Users\\Admin\\AppData\\Roaming\\nltk_data...\n",
            "[nltk_data]   Unzipping tokenizers\\punkt.zip.\n",
            "[nltk_data] Downloading package averaged_perceptron_tagger to\n",
            "[nltk_data]     C:\\Users\\Admin\\AppData\\Roaming\\nltk_data...\n",
            "[nltk_data]   Package averaged_perceptron_tagger is already up-to-\n",
            "[nltk_data]       date!\n"
          ]
        },
        {
          "data": {
            "text/plain": [
              "True"
            ]
          },
          "execution_count": 1,
          "metadata": {},
          "output_type": "execute_result"
        }
      ],
      "source": [
        "import nltk\n",
        "nltk.download('punkt')\n",
        "nltk.download('averaged_perceptron_tagger')"
      ]
    },
    {
      "cell_type": "code",
      "execution_count": null,
      "id": "parliamentary-alpha",
      "metadata": {
        "id": "parliamentary-alpha"
      },
      "outputs": [],
      "source": [
        "from nltk.chunk import RegexpParser\n",
        "from nltk.tokenize import word_tokenize"
      ]
    },
    {
      "cell_type": "code",
      "execution_count": null,
      "id": "subject-coordinator",
      "metadata": {
        "id": "subject-coordinator"
      },
      "outputs": [],
      "source": [
        "sentence = \"Educative Answers is a free web encyclopedia written by devs for devs.\""
      ]
    },
    {
      "cell_type": "markdown",
      "id": "featured-pennsylvania",
      "metadata": {
        "id": "featured-pennsylvania"
      },
      "source": [
        "### Tokenization"
      ]
    },
    {
      "cell_type": "code",
      "execution_count": null,
      "id": "massive-deposit",
      "metadata": {
        "id": "massive-deposit"
      },
      "outputs": [],
      "source": [
        "tokens = word_tokenize(sentence)"
      ]
    },
    {
      "cell_type": "code",
      "execution_count": null,
      "id": "curious-coaching",
      "metadata": {
        "id": "curious-coaching",
        "outputId": "8b84c5d5-f781-4919-fc71-c4db76cee63a"
      },
      "outputs": [
        {
          "data": {
            "text/plain": [
              "['Educative',\n",
              " 'Answers',\n",
              " 'is',\n",
              " 'a',\n",
              " 'free',\n",
              " 'web',\n",
              " 'encyclopedia',\n",
              " 'written',\n",
              " 'by',\n",
              " 'devs',\n",
              " 'for',\n",
              " 'devs',\n",
              " '.']"
            ]
          },
          "execution_count": 5,
          "metadata": {},
          "output_type": "execute_result"
        }
      ],
      "source": [
        "tokens"
      ]
    },
    {
      "cell_type": "markdown",
      "id": "possible-strengthening",
      "metadata": {
        "id": "possible-strengthening"
      },
      "source": [
        "### POS tagging"
      ]
    },
    {
      "cell_type": "code",
      "execution_count": null,
      "id": "liberal-convenience",
      "metadata": {
        "id": "liberal-convenience"
      },
      "outputs": [],
      "source": [
        "pos_tags = nltk.pos_tag(tokens)"
      ]
    },
    {
      "cell_type": "code",
      "execution_count": null,
      "id": "unavailable-northeast",
      "metadata": {
        "id": "unavailable-northeast",
        "outputId": "f9560f17-242e-48f3-8d12-a6270b9d10fd"
      },
      "outputs": [
        {
          "data": {
            "text/plain": [
              "[('Educative', 'JJ'),\n",
              " ('Answers', 'NNPS'),\n",
              " ('is', 'VBZ'),\n",
              " ('a', 'DT'),\n",
              " ('free', 'JJ'),\n",
              " ('web', 'NN'),\n",
              " ('encyclopedia', 'NN'),\n",
              " ('written', 'VBN'),\n",
              " ('by', 'IN'),\n",
              " ('devs', 'NN'),\n",
              " ('for', 'IN'),\n",
              " ('devs', 'NN'),\n",
              " ('.', '.')]"
            ]
          },
          "execution_count": 7,
          "metadata": {},
          "output_type": "execute_result"
        }
      ],
      "source": [
        "pos_tags"
      ]
    },
    {
      "cell_type": "markdown",
      "id": "sitting-pencil",
      "metadata": {
        "id": "sitting-pencil"
      },
      "source": [
        "### Chunking patterns"
      ]
    },
    {
      "cell_type": "code",
      "execution_count": null,
      "id": "surrounded-straight",
      "metadata": {
        "id": "surrounded-straight"
      },
      "outputs": [],
      "source": [
        "chunk_patterns = r\"\"\"\n",
        "    NP: {<DT>?<JJ>*<NN>}  # Chunk noun phrases\n",
        "    VP: {<VB.*><NP|PP>}  # Chunk verb phrases\n",
        "\"\"\""
      ]
    },
    {
      "cell_type": "code",
      "execution_count": null,
      "id": "abstract-banks",
      "metadata": {
        "id": "abstract-banks",
        "outputId": "c68edaba-c76c-4f7a-cb12-4aeaf8f3a129"
      },
      "outputs": [
        {
          "data": {
            "text/plain": [
              "'\\n    NP: {<DT>?<JJ>*<NN>}  # Chunk noun phrases\\n    VP: {<VB.*><NP|PP>}  # Chunk verb phrases\\n'"
            ]
          },
          "execution_count": 9,
          "metadata": {},
          "output_type": "execute_result"
        }
      ],
      "source": [
        "chunk_patterns"
      ]
    },
    {
      "cell_type": "markdown",
      "id": "banner-reset",
      "metadata": {
        "id": "banner-reset"
      },
      "source": [
        "### Create a chunk parser"
      ]
    },
    {
      "cell_type": "code",
      "execution_count": null,
      "id": "intended-connectivity",
      "metadata": {
        "id": "intended-connectivity"
      },
      "outputs": [],
      "source": [
        "chunk_parser = RegexpParser(chunk_patterns)"
      ]
    },
    {
      "cell_type": "code",
      "execution_count": null,
      "id": "soviet-difference",
      "metadata": {
        "id": "soviet-difference",
        "outputId": "bb316310-9a26-42e8-d1a7-88115d60d50c"
      },
      "outputs": [
        {
          "data": {
            "text/plain": [
              "<chunk.RegexpParser with 2 stages>"
            ]
          },
          "execution_count": 13,
          "metadata": {},
          "output_type": "execute_result"
        }
      ],
      "source": [
        "chunk_parser"
      ]
    },
    {
      "cell_type": "markdown",
      "id": "existing-placement",
      "metadata": {
        "id": "existing-placement"
      },
      "source": [
        "### Perform chunking"
      ]
    },
    {
      "cell_type": "code",
      "execution_count": null,
      "id": "exclusive-manor",
      "metadata": {
        "id": "exclusive-manor"
      },
      "outputs": [],
      "source": [
        "result = chunk_parser.parse(pos_tags)"
      ]
    },
    {
      "cell_type": "code",
      "execution_count": null,
      "id": "figured-compromise",
      "metadata": {
        "id": "figured-compromise",
        "outputId": "5b094068-1613-4d04-afe8-a5721e0bf886"
      },
      "outputs": [
        {
          "name": "stdout",
          "output_type": "stream",
          "text": [
            "(S\n",
            "  Educative/JJ\n",
            "  Answers/NNPS\n",
            "  (VP is/VBZ (NP a/DT free/JJ web/NN))\n",
            "  (NP encyclopedia/NN)\n",
            "  written/VBN\n",
            "  by/IN\n",
            "  (NP devs/NN)\n",
            "  for/IN\n",
            "  (NP devs/NN)\n",
            "  ./.)\n"
          ]
        }
      ],
      "source": [
        "print(result)"
      ]
    }
  ],
  "metadata": {
    "kernelspec": {
      "display_name": "Python 3 (ipykernel)",
      "language": "python",
      "name": "python3"
    },
    "language_info": {
      "codemirror_mode": {
        "name": "ipython",
        "version": 3
      },
      "file_extension": ".py",
      "mimetype": "text/x-python",
      "name": "python",
      "nbconvert_exporter": "python",
      "pygments_lexer": "ipython3",
      "version": "3.7.0"
    },
    "colab": {
      "provenance": [],
      "include_colab_link": true
    }
  },
  "nbformat": 4,
  "nbformat_minor": 5
}