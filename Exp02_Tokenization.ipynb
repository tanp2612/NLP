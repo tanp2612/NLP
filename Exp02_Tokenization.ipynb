{
  "nbformat": 4,
  "nbformat_minor": 0,
  "metadata": {
    "colab": {
      "provenance": [],
      "include_colab_link": true
    },
    "kernelspec": {
      "name": "python3",
      "display_name": "Python 3"
    },
    "language_info": {
      "name": "python"
    }
  },
  "cells": [
    {
      "cell_type": "markdown",
      "metadata": {
        "id": "view-in-github",
        "colab_type": "text"
      },
      "source": [
        "<a href=\"https://colab.research.google.com/github/tanp2612/NLP/blob/master/Exp02_Tokenization.ipynb\" target=\"_parent\"><img src=\"https://colab.research.google.com/assets/colab-badge.svg\" alt=\"Open In Colab\"/></a>"
      ]
    },
    {
      "cell_type": "code",
      "execution_count": 26,
      "metadata": {
        "colab": {
          "base_uri": "https://localhost:8080/"
        },
        "id": "b_aWUdSThIUf",
        "outputId": "c7e1864c-ce88-426f-b3c6-0c0abe143fdb"
      },
      "outputs": [
        {
          "output_type": "stream",
          "name": "stdout",
          "text": [
            "Requirement already satisfied: nltk in /usr/local/lib/python3.10/dist-packages (3.8.1)\n",
            "Requirement already satisfied: click in /usr/local/lib/python3.10/dist-packages (from nltk) (8.1.7)\n",
            "Requirement already satisfied: joblib in /usr/local/lib/python3.10/dist-packages (from nltk) (1.3.2)\n",
            "Requirement already satisfied: regex>=2021.8.3 in /usr/local/lib/python3.10/dist-packages (from nltk) (2023.6.3)\n",
            "Requirement already satisfied: tqdm in /usr/local/lib/python3.10/dist-packages (from nltk) (4.66.1)\n"
          ]
        }
      ],
      "source": [
        "!pip install nltk"
      ]
    },
    {
      "cell_type": "code",
      "source": [
        "import nltk"
      ],
      "metadata": {
        "id": "MWpFc5xUhjLC"
      },
      "execution_count": 27,
      "outputs": []
    },
    {
      "cell_type": "code",
      "source": [
        "nltk.download('punkt')"
      ],
      "metadata": {
        "colab": {
          "base_uri": "https://localhost:8080/"
        },
        "id": "5lFqAJMei946",
        "outputId": "90421fa9-90bc-49ca-e825-18dac5fa6f08"
      },
      "execution_count": 28,
      "outputs": [
        {
          "output_type": "stream",
          "name": "stderr",
          "text": [
            "[nltk_data] Downloading package punkt to /root/nltk_data...\n",
            "[nltk_data]   Package punkt is already up-to-date!\n"
          ]
        },
        {
          "output_type": "execute_result",
          "data": {
            "text/plain": [
              "True"
            ]
          },
          "metadata": {},
          "execution_count": 28
        }
      ]
    },
    {
      "cell_type": "markdown",
      "source": [
        " **Sentence Tokenization**"
      ],
      "metadata": {
        "id": "1UUnzOaIjGkp"
      }
    },
    {
      "cell_type": "code",
      "source": [
        "\n",
        "from nltk.tokenize import sent_tokenize"
      ],
      "metadata": {
        "id": "aAg6p8iHh3zy"
      },
      "execution_count": 29,
      "outputs": []
    },
    {
      "cell_type": "code",
      "source": [
        "text = '''Lorem Ipsum is simply dummy text of the printing and typesetting industry. Lorem Ipsum has been the industry's standard dummy text ever since the 1500s, when an unknown printer took a galley of type and scrambled it to make a type specimen book. It has survived not only five centuries, but also the leap into electronic typesetting, remaining essentially unchanged. It was popularised in the 1960s with the release of Letraset sheets containing Lorem Ipsum passages, and more recently with desktop publishing software like Aldus PageMaker including versions of Lorem Ipsum.'''"
      ],
      "metadata": {
        "id": "6Bqul34riC_h"
      },
      "execution_count": 30,
      "outputs": []
    },
    {
      "cell_type": "code",
      "source": [
        "text"
      ],
      "metadata": {
        "id": "50ti0wqbjrq6",
        "colab": {
          "base_uri": "https://localhost:8080/",
          "height": 87
        },
        "outputId": "b66cc160-9729-4ff6-98b2-42fc8e6efbc1"
      },
      "execution_count": 31,
      "outputs": [
        {
          "output_type": "execute_result",
          "data": {
            "text/plain": [
              "\"Lorem Ipsum is simply dummy text of the printing and typesetting industry. Lorem Ipsum has been the industry's standard dummy text ever since the 1500s, when an unknown printer took a galley of type and scrambled it to make a type specimen book. It has survived not only five centuries, but also the leap into electronic typesetting, remaining essentially unchanged. It was popularised in the 1960s with the release of Letraset sheets containing Lorem Ipsum passages, and more recently with desktop publishing software like Aldus PageMaker including versions of Lorem Ipsum.\""
            ],
            "application/vnd.google.colaboratory.intrinsic+json": {
              "type": "string"
            }
          },
          "metadata": {},
          "execution_count": 31
        }
      ]
    },
    {
      "cell_type": "code",
      "source": [
        "sentences = sent_tokenize (text)"
      ],
      "metadata": {
        "id": "DXZpzqyUjuci"
      },
      "execution_count": 32,
      "outputs": []
    },
    {
      "cell_type": "code",
      "source": [
        "sentences"
      ],
      "metadata": {
        "id": "NEHQ96bMjxaq",
        "colab": {
          "base_uri": "https://localhost:8080/"
        },
        "outputId": "0a70f8b0-a6b4-46f0-82aa-62e4c8527313"
      },
      "execution_count": 33,
      "outputs": [
        {
          "output_type": "execute_result",
          "data": {
            "text/plain": [
              "['Lorem Ipsum is simply dummy text of the printing and typesetting industry.',\n",
              " \"Lorem Ipsum has been the industry's standard dummy text ever since the 1500s, when an unknown printer took a galley of type and scrambled it to make a type specimen book.\",\n",
              " 'It has survived not only five centuries, but also the leap into electronic typesetting, remaining essentially unchanged.',\n",
              " 'It was popularised in the 1960s with the release of Letraset sheets containing Lorem Ipsum passages, and more recently with desktop publishing software like Aldus PageMaker including versions of Lorem Ipsum.']"
            ]
          },
          "metadata": {},
          "execution_count": 33
        }
      ]
    },
    {
      "cell_type": "markdown",
      "source": [
        "**Word Tokenization**"
      ],
      "metadata": {
        "id": "r5PYhSlNkzV5"
      }
    },
    {
      "cell_type": "code",
      "source": [
        "from nltk.tokenize import word_tokenize"
      ],
      "metadata": {
        "id": "PWbKBHa_k3YK"
      },
      "execution_count": 34,
      "outputs": []
    },
    {
      "cell_type": "code",
      "source": [
        "words = word_tokenize (text)"
      ],
      "metadata": {
        "id": "OZNB0Nl7k5ny"
      },
      "execution_count": 35,
      "outputs": []
    },
    {
      "cell_type": "code",
      "source": [
        "words"
      ],
      "metadata": {
        "colab": {
          "base_uri": "https://localhost:8080/"
        },
        "id": "ezUFcBgClDuy",
        "outputId": "7bcc5982-544c-4cf3-d8b9-d07e96468c75"
      },
      "execution_count": 36,
      "outputs": [
        {
          "output_type": "execute_result",
          "data": {
            "text/plain": [
              "['Lorem',\n",
              " 'Ipsum',\n",
              " 'is',\n",
              " 'simply',\n",
              " 'dummy',\n",
              " 'text',\n",
              " 'of',\n",
              " 'the',\n",
              " 'printing',\n",
              " 'and',\n",
              " 'typesetting',\n",
              " 'industry',\n",
              " '.',\n",
              " 'Lorem',\n",
              " 'Ipsum',\n",
              " 'has',\n",
              " 'been',\n",
              " 'the',\n",
              " 'industry',\n",
              " \"'s\",\n",
              " 'standard',\n",
              " 'dummy',\n",
              " 'text',\n",
              " 'ever',\n",
              " 'since',\n",
              " 'the',\n",
              " '1500s',\n",
              " ',',\n",
              " 'when',\n",
              " 'an',\n",
              " 'unknown',\n",
              " 'printer',\n",
              " 'took',\n",
              " 'a',\n",
              " 'galley',\n",
              " 'of',\n",
              " 'type',\n",
              " 'and',\n",
              " 'scrambled',\n",
              " 'it',\n",
              " 'to',\n",
              " 'make',\n",
              " 'a',\n",
              " 'type',\n",
              " 'specimen',\n",
              " 'book',\n",
              " '.',\n",
              " 'It',\n",
              " 'has',\n",
              " 'survived',\n",
              " 'not',\n",
              " 'only',\n",
              " 'five',\n",
              " 'centuries',\n",
              " ',',\n",
              " 'but',\n",
              " 'also',\n",
              " 'the',\n",
              " 'leap',\n",
              " 'into',\n",
              " 'electronic',\n",
              " 'typesetting',\n",
              " ',',\n",
              " 'remaining',\n",
              " 'essentially',\n",
              " 'unchanged',\n",
              " '.',\n",
              " 'It',\n",
              " 'was',\n",
              " 'popularised',\n",
              " 'in',\n",
              " 'the',\n",
              " '1960s',\n",
              " 'with',\n",
              " 'the',\n",
              " 'release',\n",
              " 'of',\n",
              " 'Letraset',\n",
              " 'sheets',\n",
              " 'containing',\n",
              " 'Lorem',\n",
              " 'Ipsum',\n",
              " 'passages',\n",
              " ',',\n",
              " 'and',\n",
              " 'more',\n",
              " 'recently',\n",
              " 'with',\n",
              " 'desktop',\n",
              " 'publishing',\n",
              " 'software',\n",
              " 'like',\n",
              " 'Aldus',\n",
              " 'PageMaker',\n",
              " 'including',\n",
              " 'versions',\n",
              " 'of',\n",
              " 'Lorem',\n",
              " 'Ipsum',\n",
              " '.']"
            ]
          },
          "metadata": {},
          "execution_count": 36
        }
      ]
    },
    {
      "cell_type": "code",
      "source": [
        "for w in words:\n",
        "    print (w)"
      ],
      "metadata": {
        "colab": {
          "base_uri": "https://localhost:8080/"
        },
        "id": "NeGwBrMylNcq",
        "outputId": "5a96b334-3331-4431-8f9f-23a2b611999b"
      },
      "execution_count": 37,
      "outputs": [
        {
          "output_type": "stream",
          "name": "stdout",
          "text": [
            "Lorem\n",
            "Ipsum\n",
            "is\n",
            "simply\n",
            "dummy\n",
            "text\n",
            "of\n",
            "the\n",
            "printing\n",
            "and\n",
            "typesetting\n",
            "industry\n",
            ".\n",
            "Lorem\n",
            "Ipsum\n",
            "has\n",
            "been\n",
            "the\n",
            "industry\n",
            "'s\n",
            "standard\n",
            "dummy\n",
            "text\n",
            "ever\n",
            "since\n",
            "the\n",
            "1500s\n",
            ",\n",
            "when\n",
            "an\n",
            "unknown\n",
            "printer\n",
            "took\n",
            "a\n",
            "galley\n",
            "of\n",
            "type\n",
            "and\n",
            "scrambled\n",
            "it\n",
            "to\n",
            "make\n",
            "a\n",
            "type\n",
            "specimen\n",
            "book\n",
            ".\n",
            "It\n",
            "has\n",
            "survived\n",
            "not\n",
            "only\n",
            "five\n",
            "centuries\n",
            ",\n",
            "but\n",
            "also\n",
            "the\n",
            "leap\n",
            "into\n",
            "electronic\n",
            "typesetting\n",
            ",\n",
            "remaining\n",
            "essentially\n",
            "unchanged\n",
            ".\n",
            "It\n",
            "was\n",
            "popularised\n",
            "in\n",
            "the\n",
            "1960s\n",
            "with\n",
            "the\n",
            "release\n",
            "of\n",
            "Letraset\n",
            "sheets\n",
            "containing\n",
            "Lorem\n",
            "Ipsum\n",
            "passages\n",
            ",\n",
            "and\n",
            "more\n",
            "recently\n",
            "with\n",
            "desktop\n",
            "publishing\n",
            "software\n",
            "like\n",
            "Aldus\n",
            "PageMaker\n",
            "including\n",
            "versions\n",
            "of\n",
            "Lorem\n",
            "Ipsum\n",
            ".\n"
          ]
        }
      ]
    },
    {
      "cell_type": "markdown",
      "source": [
        "**Levels of Sentences Tokenization using Comprehension**"
      ],
      "metadata": {
        "id": "1NL87ma1llKK"
      }
    },
    {
      "cell_type": "code",
      "source": [
        "sent_tokenize (text)"
      ],
      "metadata": {
        "colab": {
          "base_uri": "https://localhost:8080/"
        },
        "id": "ad5Pi1dilpva",
        "outputId": "8bdc9e06-bde0-45be-f727-93c9c63e2092"
      },
      "execution_count": 38,
      "outputs": [
        {
          "output_type": "execute_result",
          "data": {
            "text/plain": [
              "['Lorem Ipsum is simply dummy text of the printing and typesetting industry.',\n",
              " \"Lorem Ipsum has been the industry's standard dummy text ever since the 1500s, when an unknown printer took a galley of type and scrambled it to make a type specimen book.\",\n",
              " 'It has survived not only five centuries, but also the leap into electronic typesetting, remaining essentially unchanged.',\n",
              " 'It was popularised in the 1960s with the release of Letraset sheets containing Lorem Ipsum passages, and more recently with desktop publishing software like Aldus PageMaker including versions of Lorem Ipsum.']"
            ]
          },
          "metadata": {},
          "execution_count": 38
        }
      ]
    },
    {
      "cell_type": "code",
      "source": [
        "[word_tokenize (text) for t in sent_tokenize(text)]"
      ],
      "metadata": {
        "colab": {
          "base_uri": "https://localhost:8080/"
        },
        "id": "Ukn1YQmAlvJ0",
        "outputId": "776268a3-4189-42e1-cdb0-adb957ba5bad"
      },
      "execution_count": 39,
      "outputs": [
        {
          "output_type": "execute_result",
          "data": {
            "text/plain": [
              "[['Lorem',\n",
              "  'Ipsum',\n",
              "  'is',\n",
              "  'simply',\n",
              "  'dummy',\n",
              "  'text',\n",
              "  'of',\n",
              "  'the',\n",
              "  'printing',\n",
              "  'and',\n",
              "  'typesetting',\n",
              "  'industry',\n",
              "  '.',\n",
              "  'Lorem',\n",
              "  'Ipsum',\n",
              "  'has',\n",
              "  'been',\n",
              "  'the',\n",
              "  'industry',\n",
              "  \"'s\",\n",
              "  'standard',\n",
              "  'dummy',\n",
              "  'text',\n",
              "  'ever',\n",
              "  'since',\n",
              "  'the',\n",
              "  '1500s',\n",
              "  ',',\n",
              "  'when',\n",
              "  'an',\n",
              "  'unknown',\n",
              "  'printer',\n",
              "  'took',\n",
              "  'a',\n",
              "  'galley',\n",
              "  'of',\n",
              "  'type',\n",
              "  'and',\n",
              "  'scrambled',\n",
              "  'it',\n",
              "  'to',\n",
              "  'make',\n",
              "  'a',\n",
              "  'type',\n",
              "  'specimen',\n",
              "  'book',\n",
              "  '.',\n",
              "  'It',\n",
              "  'has',\n",
              "  'survived',\n",
              "  'not',\n",
              "  'only',\n",
              "  'five',\n",
              "  'centuries',\n",
              "  ',',\n",
              "  'but',\n",
              "  'also',\n",
              "  'the',\n",
              "  'leap',\n",
              "  'into',\n",
              "  'electronic',\n",
              "  'typesetting',\n",
              "  ',',\n",
              "  'remaining',\n",
              "  'essentially',\n",
              "  'unchanged',\n",
              "  '.',\n",
              "  'It',\n",
              "  'was',\n",
              "  'popularised',\n",
              "  'in',\n",
              "  'the',\n",
              "  '1960s',\n",
              "  'with',\n",
              "  'the',\n",
              "  'release',\n",
              "  'of',\n",
              "  'Letraset',\n",
              "  'sheets',\n",
              "  'containing',\n",
              "  'Lorem',\n",
              "  'Ipsum',\n",
              "  'passages',\n",
              "  ',',\n",
              "  'and',\n",
              "  'more',\n",
              "  'recently',\n",
              "  'with',\n",
              "  'desktop',\n",
              "  'publishing',\n",
              "  'software',\n",
              "  'like',\n",
              "  'Aldus',\n",
              "  'PageMaker',\n",
              "  'including',\n",
              "  'versions',\n",
              "  'of',\n",
              "  'Lorem',\n",
              "  'Ipsum',\n",
              "  '.'],\n",
              " ['Lorem',\n",
              "  'Ipsum',\n",
              "  'is',\n",
              "  'simply',\n",
              "  'dummy',\n",
              "  'text',\n",
              "  'of',\n",
              "  'the',\n",
              "  'printing',\n",
              "  'and',\n",
              "  'typesetting',\n",
              "  'industry',\n",
              "  '.',\n",
              "  'Lorem',\n",
              "  'Ipsum',\n",
              "  'has',\n",
              "  'been',\n",
              "  'the',\n",
              "  'industry',\n",
              "  \"'s\",\n",
              "  'standard',\n",
              "  'dummy',\n",
              "  'text',\n",
              "  'ever',\n",
              "  'since',\n",
              "  'the',\n",
              "  '1500s',\n",
              "  ',',\n",
              "  'when',\n",
              "  'an',\n",
              "  'unknown',\n",
              "  'printer',\n",
              "  'took',\n",
              "  'a',\n",
              "  'galley',\n",
              "  'of',\n",
              "  'type',\n",
              "  'and',\n",
              "  'scrambled',\n",
              "  'it',\n",
              "  'to',\n",
              "  'make',\n",
              "  'a',\n",
              "  'type',\n",
              "  'specimen',\n",
              "  'book',\n",
              "  '.',\n",
              "  'It',\n",
              "  'has',\n",
              "  'survived',\n",
              "  'not',\n",
              "  'only',\n",
              "  'five',\n",
              "  'centuries',\n",
              "  ',',\n",
              "  'but',\n",
              "  'also',\n",
              "  'the',\n",
              "  'leap',\n",
              "  'into',\n",
              "  'electronic',\n",
              "  'typesetting',\n",
              "  ',',\n",
              "  'remaining',\n",
              "  'essentially',\n",
              "  'unchanged',\n",
              "  '.',\n",
              "  'It',\n",
              "  'was',\n",
              "  'popularised',\n",
              "  'in',\n",
              "  'the',\n",
              "  '1960s',\n",
              "  'with',\n",
              "  'the',\n",
              "  'release',\n",
              "  'of',\n",
              "  'Letraset',\n",
              "  'sheets',\n",
              "  'containing',\n",
              "  'Lorem',\n",
              "  'Ipsum',\n",
              "  'passages',\n",
              "  ',',\n",
              "  'and',\n",
              "  'more',\n",
              "  'recently',\n",
              "  'with',\n",
              "  'desktop',\n",
              "  'publishing',\n",
              "  'software',\n",
              "  'like',\n",
              "  'Aldus',\n",
              "  'PageMaker',\n",
              "  'including',\n",
              "  'versions',\n",
              "  'of',\n",
              "  'Lorem',\n",
              "  'Ipsum',\n",
              "  '.'],\n",
              " ['Lorem',\n",
              "  'Ipsum',\n",
              "  'is',\n",
              "  'simply',\n",
              "  'dummy',\n",
              "  'text',\n",
              "  'of',\n",
              "  'the',\n",
              "  'printing',\n",
              "  'and',\n",
              "  'typesetting',\n",
              "  'industry',\n",
              "  '.',\n",
              "  'Lorem',\n",
              "  'Ipsum',\n",
              "  'has',\n",
              "  'been',\n",
              "  'the',\n",
              "  'industry',\n",
              "  \"'s\",\n",
              "  'standard',\n",
              "  'dummy',\n",
              "  'text',\n",
              "  'ever',\n",
              "  'since',\n",
              "  'the',\n",
              "  '1500s',\n",
              "  ',',\n",
              "  'when',\n",
              "  'an',\n",
              "  'unknown',\n",
              "  'printer',\n",
              "  'took',\n",
              "  'a',\n",
              "  'galley',\n",
              "  'of',\n",
              "  'type',\n",
              "  'and',\n",
              "  'scrambled',\n",
              "  'it',\n",
              "  'to',\n",
              "  'make',\n",
              "  'a',\n",
              "  'type',\n",
              "  'specimen',\n",
              "  'book',\n",
              "  '.',\n",
              "  'It',\n",
              "  'has',\n",
              "  'survived',\n",
              "  'not',\n",
              "  'only',\n",
              "  'five',\n",
              "  'centuries',\n",
              "  ',',\n",
              "  'but',\n",
              "  'also',\n",
              "  'the',\n",
              "  'leap',\n",
              "  'into',\n",
              "  'electronic',\n",
              "  'typesetting',\n",
              "  ',',\n",
              "  'remaining',\n",
              "  'essentially',\n",
              "  'unchanged',\n",
              "  '.',\n",
              "  'It',\n",
              "  'was',\n",
              "  'popularised',\n",
              "  'in',\n",
              "  'the',\n",
              "  '1960s',\n",
              "  'with',\n",
              "  'the',\n",
              "  'release',\n",
              "  'of',\n",
              "  'Letraset',\n",
              "  'sheets',\n",
              "  'containing',\n",
              "  'Lorem',\n",
              "  'Ipsum',\n",
              "  'passages',\n",
              "  ',',\n",
              "  'and',\n",
              "  'more',\n",
              "  'recently',\n",
              "  'with',\n",
              "  'desktop',\n",
              "  'publishing',\n",
              "  'software',\n",
              "  'like',\n",
              "  'Aldus',\n",
              "  'PageMaker',\n",
              "  'including',\n",
              "  'versions',\n",
              "  'of',\n",
              "  'Lorem',\n",
              "  'Ipsum',\n",
              "  '.'],\n",
              " ['Lorem',\n",
              "  'Ipsum',\n",
              "  'is',\n",
              "  'simply',\n",
              "  'dummy',\n",
              "  'text',\n",
              "  'of',\n",
              "  'the',\n",
              "  'printing',\n",
              "  'and',\n",
              "  'typesetting',\n",
              "  'industry',\n",
              "  '.',\n",
              "  'Lorem',\n",
              "  'Ipsum',\n",
              "  'has',\n",
              "  'been',\n",
              "  'the',\n",
              "  'industry',\n",
              "  \"'s\",\n",
              "  'standard',\n",
              "  'dummy',\n",
              "  'text',\n",
              "  'ever',\n",
              "  'since',\n",
              "  'the',\n",
              "  '1500s',\n",
              "  ',',\n",
              "  'when',\n",
              "  'an',\n",
              "  'unknown',\n",
              "  'printer',\n",
              "  'took',\n",
              "  'a',\n",
              "  'galley',\n",
              "  'of',\n",
              "  'type',\n",
              "  'and',\n",
              "  'scrambled',\n",
              "  'it',\n",
              "  'to',\n",
              "  'make',\n",
              "  'a',\n",
              "  'type',\n",
              "  'specimen',\n",
              "  'book',\n",
              "  '.',\n",
              "  'It',\n",
              "  'has',\n",
              "  'survived',\n",
              "  'not',\n",
              "  'only',\n",
              "  'five',\n",
              "  'centuries',\n",
              "  ',',\n",
              "  'but',\n",
              "  'also',\n",
              "  'the',\n",
              "  'leap',\n",
              "  'into',\n",
              "  'electronic',\n",
              "  'typesetting',\n",
              "  ',',\n",
              "  'remaining',\n",
              "  'essentially',\n",
              "  'unchanged',\n",
              "  '.',\n",
              "  'It',\n",
              "  'was',\n",
              "  'popularised',\n",
              "  'in',\n",
              "  'the',\n",
              "  '1960s',\n",
              "  'with',\n",
              "  'the',\n",
              "  'release',\n",
              "  'of',\n",
              "  'Letraset',\n",
              "  'sheets',\n",
              "  'containing',\n",
              "  'Lorem',\n",
              "  'Ipsum',\n",
              "  'passages',\n",
              "  ',',\n",
              "  'and',\n",
              "  'more',\n",
              "  'recently',\n",
              "  'with',\n",
              "  'desktop',\n",
              "  'publishing',\n",
              "  'software',\n",
              "  'like',\n",
              "  'Aldus',\n",
              "  'PageMaker',\n",
              "  'including',\n",
              "  'versions',\n",
              "  'of',\n",
              "  'Lorem',\n",
              "  'Ipsum',\n",
              "  '.']]"
            ]
          },
          "metadata": {},
          "execution_count": 39
        }
      ]
    },
    {
      "cell_type": "code",
      "source": [
        "from nltk.tokenize import wordpunct_tokenize"
      ],
      "metadata": {
        "id": "UtZXK0Cxlxna"
      },
      "execution_count": 40,
      "outputs": []
    },
    {
      "cell_type": "code",
      "source": [
        "wordpunct_tokenize (text)"
      ],
      "metadata": {
        "colab": {
          "base_uri": "https://localhost:8080/"
        },
        "id": "31gLfFXRl0qC",
        "outputId": "2be32a02-acc5-4bdd-a4b2-8f712d965f46"
      },
      "execution_count": 41,
      "outputs": [
        {
          "output_type": "execute_result",
          "data": {
            "text/plain": [
              "['Lorem',\n",
              " 'Ipsum',\n",
              " 'is',\n",
              " 'simply',\n",
              " 'dummy',\n",
              " 'text',\n",
              " 'of',\n",
              " 'the',\n",
              " 'printing',\n",
              " 'and',\n",
              " 'typesetting',\n",
              " 'industry',\n",
              " '.',\n",
              " 'Lorem',\n",
              " 'Ipsum',\n",
              " 'has',\n",
              " 'been',\n",
              " 'the',\n",
              " 'industry',\n",
              " \"'\",\n",
              " 's',\n",
              " 'standard',\n",
              " 'dummy',\n",
              " 'text',\n",
              " 'ever',\n",
              " 'since',\n",
              " 'the',\n",
              " '1500s',\n",
              " ',',\n",
              " 'when',\n",
              " 'an',\n",
              " 'unknown',\n",
              " 'printer',\n",
              " 'took',\n",
              " 'a',\n",
              " 'galley',\n",
              " 'of',\n",
              " 'type',\n",
              " 'and',\n",
              " 'scrambled',\n",
              " 'it',\n",
              " 'to',\n",
              " 'make',\n",
              " 'a',\n",
              " 'type',\n",
              " 'specimen',\n",
              " 'book',\n",
              " '.',\n",
              " 'It',\n",
              " 'has',\n",
              " 'survived',\n",
              " 'not',\n",
              " 'only',\n",
              " 'five',\n",
              " 'centuries',\n",
              " ',',\n",
              " 'but',\n",
              " 'also',\n",
              " 'the',\n",
              " 'leap',\n",
              " 'into',\n",
              " 'electronic',\n",
              " 'typesetting',\n",
              " ',',\n",
              " 'remaining',\n",
              " 'essentially',\n",
              " 'unchanged',\n",
              " '.',\n",
              " 'It',\n",
              " 'was',\n",
              " 'popularised',\n",
              " 'in',\n",
              " 'the',\n",
              " '1960s',\n",
              " 'with',\n",
              " 'the',\n",
              " 'release',\n",
              " 'of',\n",
              " 'Letraset',\n",
              " 'sheets',\n",
              " 'containing',\n",
              " 'Lorem',\n",
              " 'Ipsum',\n",
              " 'passages',\n",
              " ',',\n",
              " 'and',\n",
              " 'more',\n",
              " 'recently',\n",
              " 'with',\n",
              " 'desktop',\n",
              " 'publishing',\n",
              " 'software',\n",
              " 'like',\n",
              " 'Aldus',\n",
              " 'PageMaker',\n",
              " 'including',\n",
              " 'versions',\n",
              " 'of',\n",
              " 'Lorem',\n",
              " 'Ipsum',\n",
              " '.']"
            ]
          },
          "metadata": {},
          "execution_count": 41
        }
      ]
    },
    {
      "cell_type": "markdown",
      "source": [
        "**Filteration of Text by converting into lower case**"
      ],
      "metadata": {
        "id": "nPfF1UECl9a6"
      }
    },
    {
      "cell_type": "code",
      "source": [
        "text.lower()"
      ],
      "metadata": {
        "colab": {
          "base_uri": "https://localhost:8080/",
          "height": 87
        },
        "id": "FAml52nymCFi",
        "outputId": "9aedb59e-94ca-4b13-e5bf-0273a0abf108"
      },
      "execution_count": 42,
      "outputs": [
        {
          "output_type": "execute_result",
          "data": {
            "text/plain": [
              "\"lorem ipsum is simply dummy text of the printing and typesetting industry. lorem ipsum has been the industry's standard dummy text ever since the 1500s, when an unknown printer took a galley of type and scrambled it to make a type specimen book. it has survived not only five centuries, but also the leap into electronic typesetting, remaining essentially unchanged. it was popularised in the 1960s with the release of letraset sheets containing lorem ipsum passages, and more recently with desktop publishing software like aldus pagemaker including versions of lorem ipsum.\""
            ],
            "application/vnd.google.colaboratory.intrinsic+json": {
              "type": "string"
            }
          },
          "metadata": {},
          "execution_count": 42
        }
      ]
    },
    {
      "cell_type": "code",
      "source": [
        "text.upper()"
      ],
      "metadata": {
        "colab": {
          "base_uri": "https://localhost:8080/",
          "height": 87
        },
        "id": "VYZcy9DRmGpA",
        "outputId": "e49e8b99-e82d-480d-d3e7-063ebbcfffcc"
      },
      "execution_count": 43,
      "outputs": [
        {
          "output_type": "execute_result",
          "data": {
            "text/plain": [
              "\"LOREM IPSUM IS SIMPLY DUMMY TEXT OF THE PRINTING AND TYPESETTING INDUSTRY. LOREM IPSUM HAS BEEN THE INDUSTRY'S STANDARD DUMMY TEXT EVER SINCE THE 1500S, WHEN AN UNKNOWN PRINTER TOOK A GALLEY OF TYPE AND SCRAMBLED IT TO MAKE A TYPE SPECIMEN BOOK. IT HAS SURVIVED NOT ONLY FIVE CENTURIES, BUT ALSO THE LEAP INTO ELECTRONIC TYPESETTING, REMAINING ESSENTIALLY UNCHANGED. IT WAS POPULARISED IN THE 1960S WITH THE RELEASE OF LETRASET SHEETS CONTAINING LOREM IPSUM PASSAGES, AND MORE RECENTLY WITH DESKTOP PUBLISHING SOFTWARE LIKE ALDUS PAGEMAKER INCLUDING VERSIONS OF LOREM IPSUM.\""
            ],
            "application/vnd.google.colaboratory.intrinsic+json": {
              "type": "string"
            }
          },
          "metadata": {},
          "execution_count": 43
        }
      ]
    }
  ]
}